{
  "cells": [
    {
      "cell_type": "code",
      "execution_count": 1,
      "metadata": {
        "colab": {
          "base_uri": "https://localhost:8080/"
        },
        "id": "T31bdZz8ewYb",
        "outputId": "43e3e3f8-2d35-43bc-bba7-63e61658c319"
      },
      "outputs": [
        {
          "name": "stdout",
          "output_type": "stream",
          "text": [
            "Collecting scikit-surprise\n",
            "  Downloading scikit-surprise-1.1.3.tar.gz (771 kB)\n",
            "\u001b[2K     \u001b[90m━━━━━━━━━━━━━━━━━━━━━━━━━━━━━━━━━━━━━━━━\u001b[0m \u001b[32m772.0/772.0 kB\u001b[0m \u001b[31m4.6 MB/s\u001b[0m eta \u001b[36m0:00:00\u001b[0m\n",
            "\u001b[?25h  Preparing metadata (setup.py) ... \u001b[?25l\u001b[?25hdone\n",
            "Requirement already satisfied: joblib>=1.0.0 in /usr/local/lib/python3.10/dist-packages (from scikit-surprise) (1.3.2)\n",
            "Requirement already satisfied: numpy>=1.17.3 in /usr/local/lib/python3.10/dist-packages (from scikit-surprise) (1.23.5)\n",
            "Requirement already satisfied: scipy>=1.3.2 in /usr/local/lib/python3.10/dist-packages (from scikit-surprise) (1.11.3)\n",
            "Building wheels for collected packages: scikit-surprise\n",
            "  Building wheel for scikit-surprise (setup.py) ... \u001b[?25l\u001b[?25hdone\n",
            "  Created wheel for scikit-surprise: filename=scikit_surprise-1.1.3-cp310-cp310-linux_x86_64.whl size=3163485 sha256=7d7adaa3346d111626f8f31c931c6511c9ee5f1f33c8f5dfea156522b587d4e9\n",
            "  Stored in directory: /root/.cache/pip/wheels/a5/ca/a8/4e28def53797fdc4363ca4af740db15a9c2f1595ebc51fb445\n",
            "Successfully built scikit-surprise\n",
            "Installing collected packages: scikit-surprise\n",
            "Successfully installed scikit-surprise-1.1.3\n"
          ]
        }
      ],
      "source": [
        "!pip install scikit-surprise"
      ]
    },
    {
      "cell_type": "code",
      "execution_count": 10,
      "metadata": {
        "colab": {
          "base_uri": "https://localhost:8080/"
        },
        "id": "z7IkgXc2erWj",
        "outputId": "697312bd-f484-47fa-c698-235a79eeaaa2"
      },
      "outputs": [
        {
          "name": "stdout",
          "output_type": "stream",
          "text": [
            "(1020, 6)\n"
          ]
        },
        {
          "name": "stderr",
          "output_type": "stream",
          "text": [
            "<ipython-input-10-124c40d8e89b>:25: FutureWarning: The default value of numeric_only in DataFrameGroupBy.mean is deprecated. In a future version, numeric_only will default to False. Either specify numeric_only or select only columns which should be valid for the function.\n",
            "  avg_rating_df = mobiles.groupby('model').mean()['rating'].reset_index()\n"
          ]
        },
        {
          "name": "stdout",
          "output_type": "stream",
          "text": [
            "Recommended mobiles similar to 'Samsung Galaxy S20':\n",
            "Model: Apple iPhone 11, Price: ₹38,999, Rating: 73.0, RAM: 4 GB RAM, 64 GB inbuilt, Camera: 12 MP + 12 MP Dual Rear & 12 MP Front Camera\n",
            "Model: Apple iPhone 11 (128GB), Price: ₹46,999, Rating: 75.0, RAM: 4 GB RAM, 128 GB inbuilt, Camera: 12 MP + 12 MP Dual Rear & 12 MP Front Camera\n",
            "Model: Apple iPhone 11 Pro Max, Price: ₹1,09,900, Rating: 77.0, RAM: 4 GB RAM, 64 GB inbuilt, Camera: 12 MP + 12 MP + 12 MP Triple Rear & 12 MP Front Camera\n",
            "Model: Apple iPhone 12, Price: ₹51,999, Rating: 74.0, RAM: 4 GB RAM, 64 GB inbuilt, Camera: Memory Card Not Supported\n"
          ]
        }
      ],
      "source": [
        "import numpy as np\n",
        "import pandas as pd\n",
        "from sklearn.metrics.pairwise import cosine_similarity\n",
        "import pickle\n",
        "\n",
        "# Load mobile dataset\n",
        "mobiles = pd.read_csv('mobile.csv')  # Replace with the actual filename\n",
        "\n",
        "# Display the first few rows of the dataset\n",
        "mobiles.head()\n",
        "\n",
        "# Check the shape of the mobiles dataset\n",
        "print(mobiles.shape)\n",
        "\n",
        "# Check for missing values in the mobiles dataset\n",
        "mobiles.isnull().sum()\n",
        "\n",
        "# Check for duplicated rows in the mobiles dataset\n",
        "mobiles.duplicated().sum()\n",
        "\n",
        "## Popularity Based Recommender System\n",
        "num_rating_df = mobiles.groupby('model').count()['rating'].reset_index()\n",
        "num_rating_df.rename(columns={'rating': 'num_ratings'}, inplace=True)\n",
        "\n",
        "avg_rating_df = mobiles.groupby('model').mean()['rating'].reset_index()\n",
        "avg_rating_df.rename(columns={'rating': 'avg_rating'}, inplace=True)\n",
        "\n",
        "popular_df = num_rating_df.merge(avg_rating_df, on='model')\n",
        "popular_df = popular_df[popular_df['num_ratings'] >= 50].sort_values('avg_rating', ascending=False).head(50)\n",
        "\n",
        "# Include additional columns from the original mobiles DataFrame\n",
        "popular_df = popular_df.merge(mobiles[['model', 'price', 'rating', 'ram', 'camera']], on='model').drop_duplicates('model')[['model', 'price', 'rating', 'ram', 'camera', 'num_ratings', 'avg_rating']]\n",
        "\n",
        "# Save the popular mobiles dataframe\n",
        "pickle.dump(popular_df, open('popular_mobiles.pkl', 'wb'))\n",
        "\n",
        "## Collaborative Filtering Based Recommender System\n",
        "\n",
        "\n",
        "# Create the user-item matrix\n",
        "pt = mobiles.pivot_table(index='model', columns='index', values='rating', fill_value=0)\n",
        "\n",
        "# Calculate similarity scores using cosine similarity\n",
        "similarity_scores = cosine_similarity(pt)\n",
        "\n",
        "# Define a function to recommend similar mobiles\n",
        "def recommend_mobile(model_name):\n",
        "    index = np.where(pt.index == model_name)[0][0]\n",
        "    similar_items = sorted(list(enumerate(similarity_scores[index])), key=lambda x: x[1], reverse=True)[1:5]\n",
        "\n",
        "    data = []\n",
        "    for i in similar_items:\n",
        "        item = []\n",
        "        temp_df = mobiles[mobiles['model'] == pt.index[i[0]]]\n",
        "        item.extend(list(temp_df.drop_duplicates('model')[['model', 'price', 'rating', 'ram', 'camera']].values[0]))\n",
        "\n",
        "        data.append(item)\n",
        "\n",
        "    return data\n",
        "\n",
        "# Save collaborative filtering data\n",
        "pickle.dump(pt, open('pt_mobiles.pkl', 'wb'))\n",
        "pickle.dump(similarity_scores, open('similarity_scores_mobiles.pkl', 'wb'))\n",
        "\n",
        "\n",
        "\n",
        "\n",
        "# Define a function to recommend similar mobiles\n",
        "def recommend_mobile(model_name):\n",
        "    index = np.where(pt.index == model_name)[0][0]\n",
        "    similar_items = sorted(list(enumerate(similarity_scores[index])), key=lambda x: x[1], reverse=True)[1:5]\n",
        "\n",
        "    data = []\n",
        "    for i in similar_items:\n",
        "        item = []\n",
        "        temp_df = mobiles[mobiles['model'] == pt.index[i[0]]]\n",
        "        item.extend(list(temp_df.drop_duplicates('model')[['model', 'price', 'rating', 'ram', 'camera']].values[0]))\n",
        "\n",
        "        data.append(item)\n",
        "\n",
        "    return data\n",
        "\n",
        "# Save collaborative filtering data\n",
        "pickle.dump(pt, open('pt_mobiles.pkl', 'wb'))\n",
        "\n",
        "# Assuming you have already loaded the collaborative filtering data\n",
        "pt = pickle.load(open('pt_mobiles.pkl', 'rb'))\n",
        "similarity_scores = pickle.load(open('similarity_scores_mobiles.pkl', 'rb'))\n",
        "\n",
        "# Example: Recommend mobiles similar to a specific mobile\n",
        "example_mobile = 'Samsung Galaxy S20'\n",
        "\n",
        "# Call the recommend_mobile function\n",
        "recommendations = recommend_mobile(example_mobile)\n",
        "\n",
        "# Display the recommendations\n",
        "print(f\"Recommended mobiles similar to '{example_mobile}':\")\n",
        "for mobile in recommendations:\n",
        "    print(f\"Model: {mobile[0]}, Price: {mobile[1]}, Rating: {mobile[2]}, RAM: {mobile[3]}, Camera: {mobile[4]}\")\n",
        "\n",
        "\n"
      ]
    }
  ],
  "metadata": {
    "colab": {
      "provenance": []
    },
    "kernelspec": {
      "display_name": "Python 3",
      "name": "python3"
    },
    "language_info": {
      "name": "python"
    }
  },
  "nbformat": 4,
  "nbformat_minor": 0
}
